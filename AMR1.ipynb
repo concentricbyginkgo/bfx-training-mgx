{
 "cells": [
  {
   "cell_type": "markdown",
   "metadata": {
    "id": "ckOn2kxviNNF"
   },
   "source": [
    "# Set Up\n",
    "Import your files, and set up your R environment."
   ]
  },
  {
   "cell_type": "code",
   "execution_count": null,
   "metadata": {
    "vscode": {
     "languageId": "r"
    }
   },
   "outputs": [],
   "source": [
    "demo()\n",
    "list.files(list.dirs())"
   ]
  },
  {
   "cell_type": "markdown",
   "metadata": {
    "id": "Bx3NVDnDujmN"
   },
   "source": [
    "Run the below `files.upload()`, selecting:\n",
    "  'pathogen_results.csv',\n",
    " 'amr_results.csv',\n",
    " 'workshop_helper_scripts.R',\n",
    " 'metadata.csv'"
   ]
  },
  {
   "cell_type": "code",
   "execution_count": 1,
   "metadata": {
    "colab": {
     "base_uri": "https://localhost:8080/",
     "height": 179
    },
    "executionInfo": {
     "elapsed": 18254,
     "status": "ok",
     "timestamp": 1741053899905,
     "user": {
      "displayName": "Paige Salerno",
      "userId": "13370725446378142019"
     },
     "user_tz": 300
    },
    "id": "P3qgyYJzhZTp",
    "outputId": "0584f7df-b41f-45c4-cb50-2231e4d3fa87",
    "vscode": {
     "languageId": "r"
    }
   },
   "outputs": [
    {
     "data": {
      "text/html": [
       "\n",
       "     <input type=\"file\" id=\"files-3b2e89f2-bdc2-49fb-9802-8a96cfa8588d\" name=\"files[]\" multiple disabled\n",
       "        style=\"border:none\" />\n",
       "     <output id=\"result-3b2e89f2-bdc2-49fb-9802-8a96cfa8588d\">\n",
       "      Upload widget is only available when the cell has been executed in the\n",
       "      current browser session. Please rerun this cell to enable.\n",
       "      </output>\n",
       "      <script>// Copyright 2017 Google LLC\n",
       "//\n",
       "// Licensed under the Apache License, Version 2.0 (the \"License\");\n",
       "// you may not use this file except in compliance with the License.\n",
       "// You may obtain a copy of the License at\n",
       "//\n",
       "//      http://www.apache.org/licenses/LICENSE-2.0\n",
       "//\n",
       "// Unless required by applicable law or agreed to in writing, software\n",
       "// distributed under the License is distributed on an \"AS IS\" BASIS,\n",
       "// WITHOUT WARRANTIES OR CONDITIONS OF ANY KIND, either express or implied.\n",
       "// See the License for the specific language governing permissions and\n",
       "// limitations under the License.\n",
       "\n",
       "/**\n",
       " * @fileoverview Helpers for google.colab Python module.\n",
       " */\n",
       "(function(scope) {\n",
       "function span(text, styleAttributes = {}) {\n",
       "  const element = document.createElement('span');\n",
       "  element.textContent = text;\n",
       "  for (const key of Object.keys(styleAttributes)) {\n",
       "    element.style[key] = styleAttributes[key];\n",
       "  }\n",
       "  return element;\n",
       "}\n",
       "\n",
       "// Max number of bytes which will be uploaded at a time.\n",
       "const MAX_PAYLOAD_SIZE = 100 * 1024;\n",
       "\n",
       "function _uploadFiles(inputId, outputId) {\n",
       "  const steps = uploadFilesStep(inputId, outputId);\n",
       "  const outputElement = document.getElementById(outputId);\n",
       "  // Cache steps on the outputElement to make it available for the next call\n",
       "  // to uploadFilesContinue from Python.\n",
       "  outputElement.steps = steps;\n",
       "\n",
       "  return _uploadFilesContinue(outputId);\n",
       "}\n",
       "\n",
       "// This is roughly an async generator (not supported in the browser yet),\n",
       "// where there are multiple asynchronous steps and the Python side is going\n",
       "// to poll for completion of each step.\n",
       "// This uses a Promise to block the python side on completion of each step,\n",
       "// then passes the result of the previous step as the input to the next step.\n",
       "function _uploadFilesContinue(outputId) {\n",
       "  const outputElement = document.getElementById(outputId);\n",
       "  const steps = outputElement.steps;\n",
       "\n",
       "  const next = steps.next(outputElement.lastPromiseValue);\n",
       "  return Promise.resolve(next.value.promise).then((value) => {\n",
       "    // Cache the last promise value to make it available to the next\n",
       "    // step of the generator.\n",
       "    outputElement.lastPromiseValue = value;\n",
       "    return next.value.response;\n",
       "  });\n",
       "}\n",
       "\n",
       "/**\n",
       " * Generator function which is called between each async step of the upload\n",
       " * process.\n",
       " * @param {string} inputId Element ID of the input file picker element.\n",
       " * @param {string} outputId Element ID of the output display.\n",
       " * @return {!Iterable<!Object>} Iterable of next steps.\n",
       " */\n",
       "function* uploadFilesStep(inputId, outputId) {\n",
       "  const inputElement = document.getElementById(inputId);\n",
       "  inputElement.disabled = false;\n",
       "\n",
       "  const outputElement = document.getElementById(outputId);\n",
       "  outputElement.innerHTML = '';\n",
       "\n",
       "  const pickedPromise = new Promise((resolve) => {\n",
       "    inputElement.addEventListener('change', (e) => {\n",
       "      resolve(e.target.files);\n",
       "    });\n",
       "  });\n",
       "\n",
       "  const cancel = document.createElement('button');\n",
       "  inputElement.parentElement.appendChild(cancel);\n",
       "  cancel.textContent = 'Cancel upload';\n",
       "  const cancelPromise = new Promise((resolve) => {\n",
       "    cancel.onclick = () => {\n",
       "      resolve(null);\n",
       "    };\n",
       "  });\n",
       "\n",
       "  // Wait for the user to pick the files.\n",
       "  const files = yield {\n",
       "    promise: Promise.race([pickedPromise, cancelPromise]),\n",
       "    response: {\n",
       "      action: 'starting',\n",
       "    }\n",
       "  };\n",
       "\n",
       "  cancel.remove();\n",
       "\n",
       "  // Disable the input element since further picks are not allowed.\n",
       "  inputElement.disabled = true;\n",
       "\n",
       "  if (!files) {\n",
       "    return {\n",
       "      response: {\n",
       "        action: 'complete',\n",
       "      }\n",
       "    };\n",
       "  }\n",
       "\n",
       "  for (const file of files) {\n",
       "    const li = document.createElement('li');\n",
       "    li.append(span(file.name, {fontWeight: 'bold'}));\n",
       "    li.append(span(\n",
       "        `(${file.type || 'n/a'}) - ${file.size} bytes, ` +\n",
       "        `last modified: ${\n",
       "            file.lastModifiedDate ? file.lastModifiedDate.toLocaleDateString() :\n",
       "                                    'n/a'} - `));\n",
       "    const percent = span('0% done');\n",
       "    li.appendChild(percent);\n",
       "\n",
       "    outputElement.appendChild(li);\n",
       "\n",
       "    const fileDataPromise = new Promise((resolve) => {\n",
       "      const reader = new FileReader();\n",
       "      reader.onload = (e) => {\n",
       "        resolve(e.target.result);\n",
       "      };\n",
       "      reader.readAsArrayBuffer(file);\n",
       "    });\n",
       "    // Wait for the data to be ready.\n",
       "    let fileData = yield {\n",
       "      promise: fileDataPromise,\n",
       "      response: {\n",
       "        action: 'continue',\n",
       "      }\n",
       "    };\n",
       "\n",
       "    // Use a chunked sending to avoid message size limits. See b/62115660.\n",
       "    let position = 0;\n",
       "    do {\n",
       "      const length = Math.min(fileData.byteLength - position, MAX_PAYLOAD_SIZE);\n",
       "      const chunk = new Uint8Array(fileData, position, length);\n",
       "      position += length;\n",
       "\n",
       "      const base64 = btoa(String.fromCharCode.apply(null, chunk));\n",
       "      yield {\n",
       "        response: {\n",
       "          action: 'append',\n",
       "          file: file.name,\n",
       "          data: base64,\n",
       "        },\n",
       "      };\n",
       "\n",
       "      let percentDone = fileData.byteLength === 0 ?\n",
       "          100 :\n",
       "          Math.round((position / fileData.byteLength) * 100);\n",
       "      percent.textContent = `${percentDone}% done`;\n",
       "\n",
       "    } while (position < fileData.byteLength);\n",
       "  }\n",
       "\n",
       "  // All done.\n",
       "  yield {\n",
       "    response: {\n",
       "      action: 'complete',\n",
       "    }\n",
       "  };\n",
       "}\n",
       "\n",
       "scope.google = scope.google || {};\n",
       "scope.google.colab = scope.google.colab || {};\n",
       "scope.google.colab._files = {\n",
       "  _uploadFiles,\n",
       "  _uploadFilesContinue,\n",
       "};\n",
       "})(self);\n",
       "</script> "
      ],
      "text/plain": [
       "<IPython.core.display.HTML object>"
      ]
     },
     "metadata": {},
     "output_type": "display_data"
    },
    {
     "name": "stdout",
     "output_type": "stream",
     "text": [
      "Saving amr_results.csv to amr_results (1).csv\n",
      "Saving metadata.csv to metadata (1).csv\n",
      "Saving pathogen_results.csv to pathogen_results (1).csv\n",
      "Saving workshop_helper_scripts.R to workshop_helper_scripts (1).R\n"
     ]
    }
   ],
   "source": [
    "import os\n",
    "from google.colab import files\n",
    "uploaded = files.upload()"
   ]
  },
  {
   "cell_type": "markdown",
   "metadata": {
    "id": "28v9A96-iY7H"
   },
   "source": [
    "Check that your files are uploaded."
   ]
  },
  {
   "cell_type": "code",
   "execution_count": 2,
   "metadata": {
    "colab": {
     "base_uri": "https://localhost:8080/"
    },
    "executionInfo": {
     "elapsed": 5,
     "status": "ok",
     "timestamp": 1741053903695,
     "user": {
      "displayName": "Paige Salerno",
      "userId": "13370725446378142019"
     },
     "user_tz": 300
    },
    "id": "rEKRwGfIhz-r",
    "outputId": "933530ac-d459-4f84-a306-328e6c3020a6",
    "vscode": {
     "languageId": "r"
    }
   },
   "outputs": [
    {
     "data": {
      "text/plain": [
       "['.config',\n",
       " 'workshop_helper_scripts (1).R',\n",
       " 'metadata (1).csv',\n",
       " 'pathogen_results.csv',\n",
       " 'amr_results.csv',\n",
       " 'amr_results (1).csv',\n",
       " 'workshop_helper_scripts.R',\n",
       " 'pathogen_results (1).csv',\n",
       " 'AMR_helper_files-20250304T014411Z-001.zip',\n",
       " 'output',\n",
       " 'metadata.csv',\n",
       " 'sample_data']"
      ]
     },
     "execution_count": 2,
     "metadata": {},
     "output_type": "execute_result"
    }
   ],
   "source": [
    "os.listdir()"
   ]
  },
  {
   "cell_type": "markdown",
   "metadata": {
    "id": "BVEDdy2Wd8-t"
   },
   "source": [
    "Install R and switch the runtime environment."
   ]
  },
  {
   "cell_type": "code",
   "execution_count": 3,
   "metadata": {
    "colab": {
     "base_uri": "https://localhost:8080/"
    },
    "executionInfo": {
     "elapsed": 13762,
     "status": "ok",
     "timestamp": 1741053920897,
     "user": {
      "displayName": "Paige Salerno",
      "userId": "13370725446378142019"
     },
     "user_tz": 300
    },
    "id": "1zfzyEUudJRZ",
    "outputId": "967aec06-6690-4fe8-a1c3-858e44246168",
    "vscode": {
     "languageId": "r"
    }
   },
   "outputs": [
    {
     "name": "stdout",
     "output_type": "stream",
     "text": [
      "W: Skipping acquire of configured file 'main/source/Sources' as repository 'https://r2u.stat.illinois.edu/ubuntu jammy InRelease' does not seem to provide it (sources.list entry misspelt?)\n",
      "Reading package lists... Done\n",
      "Building dependency tree... Done\n",
      "Reading state information... Done\n",
      "r-base is already the newest version (4.4.3-1.2204.0).\n",
      "0 upgraded, 0 newly installed, 0 to remove and 45 not upgraded.\n",
      "\n",
      "R version 4.4.3 (2025-02-28) -- \"Trophy Case\"\n",
      "Copyright (C) 2025 The R Foundation for Statistical Computing\n",
      "Platform: x86_64-pc-linux-gnu\n",
      "\n",
      "R is free software and comes with ABSOLUTELY NO WARRANTY.\n",
      "You are welcome to redistribute it under certain conditions.\n",
      "Type 'license()' or 'licence()' for distribution details.\n",
      "\n",
      "  Natural language support but running in an English locale\n",
      "\n",
      "R is a collaborative project with many contributors.\n",
      "Type 'contributors()' for more information and\n",
      "'citation()' on how to cite R or R packages in publications.\n",
      "\n",
      "Type 'demo()' for some demos, 'help()' for on-line help, or\n",
      "'help.start()' for an HTML browser interface to help.\n",
      "Type 'q()' to quit R.\n",
      "\n",
      "> install.packages('IRkernel')\n",
      "Installing package into ‘/usr/local/lib/R/site-library’\n",
      "(as ‘lib’ is unspecified)\n",
      "trying URL 'https://cran.rstudio.com/src/contrib/IRkernel_1.3.2.tar.gz'\n",
      "Content type 'application/x-gzip' length 45172 bytes (44 KB)\n",
      "==================================================\n",
      "downloaded 44 KB\n",
      "\n",
      "* installing *source* package ‘IRkernel’ ...\n",
      "** package ‘IRkernel’ successfully unpacked and MD5 sums checked\n",
      "** using staged installation\n",
      "** R\n",
      "** inst\n",
      "** byte-compile and prepare package for lazy loading\n",
      "** help\n",
      "*** installing help indices\n",
      "** building package indices\n",
      "** testing if installed package can be loaded from temporary location\n",
      "** testing if installed package can be loaded from final location\n",
      "** testing if installed package keeps a record of temporary installation path\n",
      "* DONE (IRkernel)\n",
      "\n",
      "The downloaded source packages are in\n",
      "\t‘/tmp/RtmpdAKBve/downloaded_packages’\n",
      "> \n",
      "> \n",
      "\n",
      "R version 4.4.3 (2025-02-28) -- \"Trophy Case\"\n",
      "Copyright (C) 2025 The R Foundation for Statistical Computing\n",
      "Platform: x86_64-pc-linux-gnu\n",
      "\n",
      "R is free software and comes with ABSOLUTELY NO WARRANTY.\n",
      "You are welcome to redistribute it under certain conditions.\n",
      "Type 'license()' or 'licence()' for distribution details.\n",
      "\n",
      "  Natural language support but running in an English locale\n",
      "\n",
      "R is a collaborative project with many contributors.\n",
      "Type 'contributors()' for more information and\n",
      "'citation()' on how to cite R or R packages in publications.\n",
      "\n",
      "Type 'demo()' for some demos, 'help()' for on-line help, or\n",
      "'help.start()' for an HTML browser interface to help.\n",
      "Type 'q()' to quit R.\n",
      "\n",
      "> IRkernel::installspec(user = FALSE)\n",
      "\u001b[?25h> \n",
      "> \n",
      "\u001b[?25h"
     ]
    }
   ],
   "source": [
    "!apt-get update -qq\n",
    "!apt-get install -y r-base\n",
    "\n",
    "# Install IRkernel and make it available in Jupyter\n",
    "!R -e \"install.packages('IRkernel')\"\n",
    "!R -e \"IRkernel::installspec(user = FALSE)\""
   ]
  },
  {
   "cell_type": "markdown",
   "metadata": {
    "id": "tX926WZ6jC7v"
   },
   "source": [
    "# Run the R code\n",
    "## Switch your Runtime environment to R\n",
    "In the Google Colab dropdowns, go to `Runtime` > `Change runtime type`. Select `R` from the options. You should now be operating in R!"
   ]
  },
  {
   "cell_type": "markdown",
   "metadata": {
    "id": "on4gkAD7nIkc"
   },
   "source": [
    "## Set up basics\n",
    "Set up your basic params to source the files you uploaded. Also set up some basic parameters for plotting. You can change these to alter your plot format later."
   ]
  },
  {
   "cell_type": "code",
   "execution_count": 1,
   "metadata": {
    "executionInfo": {
     "elapsed": 29,
     "status": "ok",
     "timestamp": 1741053941906,
     "user": {
      "displayName": "Paige Salerno",
      "userId": "13370725446378142019"
     },
     "user_tz": 300
    },
    "id": "N3n3THgsiqGd",
    "vscode": {
     "languageId": "r"
    }
   },
   "outputs": [],
   "source": [
    "#### BASIC SOURCE PARAMS ####\n",
    "data_dirs <- \".\"\n",
    "opt <- list()\n",
    "opt[[\"logaction\"]] <- c(\"print\",\"save\")\n",
    "\n",
    "opt[['data-pattern']] <- 'amr_results.csv'\n",
    "opt[[\"output-dir\"]] <- \"output\"\n",
    "opt[['metadata-path']] <- \"metadata.csv\"\n",
    "opt[[\"source-scripts\"]] <- 'workshop_helper_scripts.R'\n"
   ]
  },
  {
   "cell_type": "code",
   "execution_count": 2,
   "metadata": {
    "executionInfo": {
     "elapsed": 17,
     "status": "ok",
     "timestamp": 1741053945838,
     "user": {
      "displayName": "Paige Salerno",
      "userId": "13370725446378142019"
     },
     "user_tz": 300
    },
    "id": "rt5cgCLlsjWV",
    "vscode": {
     "languageId": "r"
    }
   },
   "outputs": [],
   "source": [
    "#### PLOTTING PARAMS ####\n",
    "opt[[\"plot-collection-date-by-day\"]] <- T\n",
    "\n",
    "opt[[\"plot-text-size-small\"]] <- 8\n",
    "opt[[\"plot-text-size-medium\"]] <- 10\n",
    "opt[[\"plot-text-size-large\"]] <- 12\n",
    "opt[[\"facet-nrow\"]] <- 1\n",
    "opt[[\"plot-width\"]] <- 18\n",
    "opt[[\"plot-height\"]] <- 5"
   ]
  },
  {
   "cell_type": "code",
   "execution_count": 3,
   "metadata": {
    "colab": {
     "base_uri": "https://localhost:8080/"
    },
    "executionInfo": {
     "elapsed": 938,
     "status": "ok",
     "timestamp": 1741053951856,
     "user": {
      "displayName": "Paige Salerno",
      "userId": "13370725446378142019"
     },
     "user_tz": 300
    },
    "id": "4hDQOx02jK3O",
    "outputId": "541665ec-b4c0-43c0-8d2d-f311f93ea79f",
    "vscode": {
     "languageId": "r"
    }
   },
   "outputs": [
    {
     "name": "stdout",
     "output_type": "stream",
     "text": [
      "[1] \"opt[['logaction']] <- 'print'\" \"opt[['logaction']] <- 'save'\" \n",
      "[1] \"opt[['data-pattern']] <- 'amr_results.csv'\"\n",
      "[1] \"opt[['output-dir']] <- 'output'\"\n",
      "[1] \"opt[['metadata-path']] <- 'metadata.csv'\"\n",
      "[1] \"opt[['source-scripts']] <- 'workshop_helper_scripts.R'\"\n",
      "[1] \"opt[['plot-collection-date-by-day']] <- TRUE\"\n",
      "[1] \"opt[['plot-text-size-small']] <- 8\"\n",
      "[1] \"opt[['plot-text-size-medium']] <- 10\"\n",
      "[1] \"opt[['plot-text-size-large']] <- 12\"\n",
      "[1] \"opt[['facet-nrow']] <- 1\"\n",
      "[1] \"opt[['plot-width']] <- 18\"\n",
      "[1] \"opt[['plot-height']] <- 5\"\n",
      "[1] \"opt[['log-file']] <- 'output/log/amr_heatmap_log.txt'\"\n"
     ]
    }
   ],
   "source": [
    "######## LIBRARIES ########\n",
    "suppressPackageStartupMessages({\n",
    "  if(!require(\"tidyverse\")){install.packages(\"tidyverse\") ; library(tidyverse)}\n",
    "  if(!require(\"lubridate\")){install.packages(\"lubridate\") ; library(lubridate)}\n",
    "  if(!require(\"cowplot\")){install.packages(\"cowplot\") ; library(cowplot)}\n",
    "  if(!require(\"scales\")){install.packages(\"scales\") ; library(scales)}\n",
    "  if(!require(\"ggplot2\")){install.packages(\"ggplot2\") ; library(ggplot2)}\n",
    "  if(!require(\"plotly\")){install.packages(\"plotly\") ; library(plotly)}\n",
    "})\n",
    "\n",
    "######## ADD EXTRA VARIABLES ########\n",
    "source(opt[[\"source-scripts\"]])\n",
    "# Outpath for all output\n",
    "if(nchar(opt[[\"output-dir\"]])==0){ opt[[\"output-dir\"]] <- \"output\" }\n",
    "\n",
    "plots_dir <- dir.check(file.path(opt[[\"output-dir\"]], \"plots\"))\n",
    "data_dir <- dir.check(file.path(opt[[\"output-dir\"]], \"data\"))\n",
    "log_dir <- dir.check(file.path(opt[[\"output-dir\"]], \"log\"))\n",
    "\n",
    "opt[[\"log-file\"]] <- file.path(log_dir, \"amr_heatmap_log.txt\")\n",
    "\n",
    "######## PRINT OPT ########\n",
    "for(i in names(opt)){\n",
    "  record_log(filepath=opt[[\"log-file\"]],paste0(\"opt[['\",i,\"']] <- \",if(typeof(opt[[i]])==\"character\"){\"'\"},opt[[i]],if(typeof(opt[[i]])==\"character\"){\"'\"}),opt[[\"logaction\"]])\n",
    "}\n"
   ]
  },
  {
   "cell_type": "markdown",
   "metadata": {
    "id": "ggAmABqod8G2"
   },
   "source": [
    "# Ingest data\n",
    "Ingest the data and link to metadata"
   ]
  },
  {
   "cell_type": "code",
   "execution_count": 4,
   "metadata": {
    "colab": {
     "base_uri": "https://localhost:8080/"
    },
    "executionInfo": {
     "elapsed": 300,
     "status": "ok",
     "timestamp": 1741053958266,
     "user": {
      "displayName": "Paige Salerno",
      "userId": "13370725446378142019"
     },
     "user_tz": 300
    },
    "id": "yaQ4njvSjm_n",
    "outputId": "674cf1e1-6f77-4af0-ca29-61d0a62c1eae",
    "vscode": {
     "languageId": "r"
    }
   },
   "outputs": [
    {
     "name": "stdout",
     "output_type": "stream",
     "text": [
      "[1] \"FILES: .\"\n",
      "[1] \"SAMPLE COUNT: 35\"\n",
      "[1] \"No column LabelName observed. Will use SampleName as labels instead.\"\n"
     ]
    }
   ],
   "source": [
    "filelist <- c()\n",
    "for (dir in data_dirs) { filelist <- c(filelist, unique(list.files(dir, pattern = opt[[\"data-pattern\"]], full.names = TRUE))) }\n",
    "\n",
    "# Create a data frame combining all files\n",
    "all_data0 <- do.call(rbind, lapply(filelist, function(file) {\n",
    "  data <- read.csv(file)\n",
    "  # Add a new column with the final directory name\n",
    "  data$directory_folder <- basename(dirname(file))\n",
    "  data$directory <- dirname(file)\n",
    "  data$filename <- basename(file)\n",
    "  return(data)\n",
    "}))\n",
    "\n",
    "# Bc we expect BARCODE to be present from Snowflake\n",
    "if(!(\"Sample\" %in% colnames(all_data0))){ all_data0$Sample <- all_data0$BARCODE }\n",
    "\n",
    "record_log(filepath=opt[[\"log-file\"]],paste0(\"FILES: \",data_dirs),opt[[\"logaction\"]])\n",
    "record_log(filepath=opt[[\"log-file\"]],paste0(\"SAMPLE COUNT: \",length(unique(all_data0$Sample))),opt[[\"logaction\"]])\n",
    "\n",
    "all_data <- all_data0\n",
    "\n",
    "###### CONNECT TO METDATA ######\n",
    "md <- generate_md(opt[[\"metadata-path\"]],\n",
    "                  all_data,\n",
    "                  opt[[\"log-file\"]]\n",
    ")\n",
    "\n",
    "working_data <- add_md(all_data, md)"
   ]
  },
  {
   "cell_type": "markdown",
   "metadata": {
    "id": "9gdrEqC-yrRJ"
   },
   "source": [
    "View your AMR data combined with metadata."
   ]
  },
  {
   "cell_type": "code",
   "execution_count": null,
   "metadata": {
    "colab": {
     "base_uri": "https://localhost:8080/"
    },
    "executionInfo": {
     "elapsed": 52,
     "status": "ok",
     "timestamp": 1741052174658,
     "user": {
      "displayName": "Alex Simas",
      "userId": "09705253603559536357"
     },
     "user_tz": 300
    },
    "id": "qwbBs8c7y48f",
    "outputId": "ea094212-659a-4532-d4a6-ccc1a8876e8d",
    "vscode": {
     "languageId": "r"
    }
   },
   "outputs": [
    {
     "name": "stdout",
     "output_type": "stream",
     "text": [
      "[1] \"Sample, ID, SEQUENCING_TUBE_ID, ORF_ID, UNIQUE_CONTIG_ORF, start, stop, ORIENTATION, CUTOFF, PASS_BITSCORE, BEST_HIT_BITSCORE, GENE_NAME, CONTIG_PERCENT_ID, ARO_ACCESSION, MODEL_TYPE, SNPS, OTHER_SNPS, DRUG_CLASS, RESISTANCE_MECHANISM, AMR_GENE_FAMILY, PREDICTED_DNA, PREDICTED_PROTEIN, CARD_PROTEIN_SEQUENCE, PERCENTAGE_LENGTH_OF_REFERENCE_SEQUENCE, CARD_ID, MODEL_ID, NUDGED, NOTE, HIT_START, HIT_END, ANTIBIOTIC, ASSOCIATED_SPECIES, TAXONOMIC_KMERS, GENOMIC_KMERS, CONTIG_LENGTH, NUMREADS, MEAN_CONTIG_COVERAGE_DEPTH, CONTIG_ORF_LENGTH, CONTIG, CONTIG_AS_PERC_REF, DB_GENE_LENGTH, GENE_COVERAGE_PERC, CLASSIFICATION_SOURCE, HIGH_LEVEL_DRUG_CLASS, NUM_CONTIGS, SAMPLE_MAPPED_READ_COUNT, TOTAL_SAMPLE_READ_COUNT, RPM, TOTAL_SAMPLE_BP_COUNT, DPM, RPK, RPK_COUNT, RPKM, TPM, BARCODE, directory_folder, directory, filename, COLLECTION_OPERATOR_INITIAL, COLLECTION_TOTAL_VOLUME, COLLECTION_DEVICE_NUMBER_NAME, COLLECTION_QUESTIONNAIRE_TIME, COLLECTION_SUCCESSFUL, COLLECTION_TEMPERATURE, RUN_NUMBER, PANEL_NAME, PRIMER_SCHEME, OCX_ID, IS_SEQ_CONTROL, SEQ_CREATED_AT, TEST_LOCATION_NAME, ORGANIZATION_NAME, UMBRELLA_ORGANIZATION_NAME, COLLECTION_DATE, RND_PARENT_ID, SEQUENCED_SAMPLE_ID, BARCODE_OR_NGSID, BFX_IS_APPROVED, BFX_APPROVAL_TIME, BFX_PIPELINE_NAME, BFX_SIMPLE_PIPELINE_NAME, BFX_SIMPLE_PIPELINE_NAME_VERSION, BFX_RESULT_ID, BFX_ANALYSIS_FINISHED_TIME, BFX_ANALYSIS_STARTED_TIME, BFX_ANALYSIS_SUCCEEDED, BFX_RAW_READS, BFX_TRIMMED_READS, BFX_POSTHOST_READS, BFX_ANALYSIS_BY_TUBE_RN, BFX_ANALYSIS_BY_BARCODE_PANEL_RN, SS_RANK, LabelName, original_Sample, BothLabelName\"\n"
     ]
    }
   ],
   "source": [
    "print(paste(colnames(working_data), collapse=\", \"))"
   ]
  },
  {
   "cell_type": "code",
   "execution_count": null,
   "metadata": {
    "colab": {
     "base_uri": "https://localhost:8080/",
     "height": 619
    },
    "executionInfo": {
     "elapsed": 88,
     "status": "ok",
     "timestamp": 1741052110355,
     "user": {
      "displayName": "Alex Simas",
      "userId": "09705253603559536357"
     },
     "user_tz": 300
    },
    "id": "ptqGa_78ypM0",
    "outputId": "7d1efb76-e54b-4c63-8372-292ece2aa48a",
    "vscode": {
     "languageId": "r"
    }
   },
   "outputs": [
    {
     "data": {
      "text/html": [
       "<table class=\"dataframe\">\n",
       "<caption>A data.frame: 6 × 95</caption>\n",
       "<thead>\n",
       "\t<tr><th></th><th scope=col>Sample</th><th scope=col>ID</th><th scope=col>SEQUENCING_TUBE_ID</th><th scope=col>ORF_ID</th><th scope=col>UNIQUE_CONTIG_ORF</th><th scope=col>start</th><th scope=col>stop</th><th scope=col>ORIENTATION</th><th scope=col>CUTOFF</th><th scope=col>PASS_BITSCORE</th><th scope=col>⋯</th><th scope=col>BFX_ANALYSIS_SUCCEEDED</th><th scope=col>BFX_RAW_READS</th><th scope=col>BFX_TRIMMED_READS</th><th scope=col>BFX_POSTHOST_READS</th><th scope=col>BFX_ANALYSIS_BY_TUBE_RN</th><th scope=col>BFX_ANALYSIS_BY_BARCODE_PANEL_RN</th><th scope=col>SS_RANK</th><th scope=col>LabelName</th><th scope=col>original_Sample</th><th scope=col>BothLabelName</th></tr>\n",
       "\t<tr><th></th><th scope=col>&lt;chr&gt;</th><th scope=col>&lt;chr&gt;</th><th scope=col>&lt;chr&gt;</th><th scope=col>&lt;chr&gt;</th><th scope=col>&lt;chr&gt;</th><th scope=col>&lt;int&gt;</th><th scope=col>&lt;int&gt;</th><th scope=col>&lt;chr&gt;</th><th scope=col>&lt;chr&gt;</th><th scope=col>&lt;dbl&gt;</th><th scope=col>⋯</th><th scope=col>&lt;chr&gt;</th><th scope=col>&lt;int&gt;</th><th scope=col>&lt;int&gt;</th><th scope=col>&lt;int&gt;</th><th scope=col>&lt;int&gt;</th><th scope=col>&lt;int&gt;</th><th scope=col>&lt;int&gt;</th><th scope=col>&lt;chr&gt;</th><th scope=col>&lt;chr&gt;</th><th scope=col>&lt;chr&gt;</th></tr>\n",
       "</thead>\n",
       "<tbody>\n",
       "\t<tr><th scope=row>1</th><td>AVWWAAA26790</td><td>37b3b4c7-61a5-4ef9-8d53-d5a50f5ac1de</td><td>e169ca7e-32ed-47a3-9659-744a285b388d</td><td>k99_161846_1 # 3 # 365 # 1 # ID=74336_1;partial=10;start_type=Edge;rbs_motif=None;rbs_spacer=None;gc_cont=0.333                </td><td>k99_161846_1 </td><td>    3</td><td>  365</td><td>+</td><td>Strict </td><td> 50</td><td>⋯</td><td>True</td><td>18480314</td><td>17856737</td><td>17818493</td><td>1</td><td>1</td><td>1</td><td>AVWWAAA26790</td><td>AVWWAAA26790</td><td>AVWWAAA26790</td></tr>\n",
       "\t<tr><th scope=row>2</th><td>AVWWAAA26790</td><td>37b3b4c7-61a5-4ef9-8d53-d5a50f5ac1de</td><td>e169ca7e-32ed-47a3-9659-744a285b388d</td><td>k99_124809_2 # 607 # 1311 # -1 # ID=139547_2;partial=01;start_type=Edge;rbs_motif=None;rbs_spacer=None;gc_cont=0.532           </td><td>k99_124809_2 </td><td>  607</td><td> 1311</td><td>-</td><td>Strict </td><td>450</td><td>⋯</td><td>True</td><td>18480314</td><td>17856737</td><td>17818493</td><td>1</td><td>1</td><td>1</td><td>AVWWAAA26790</td><td>AVWWAAA26790</td><td>AVWWAAA26790</td></tr>\n",
       "\t<tr><th scope=row>3</th><td>AVWWAAA26790</td><td>37b3b4c7-61a5-4ef9-8d53-d5a50f5ac1de</td><td>e169ca7e-32ed-47a3-9659-744a285b388d</td><td>k99_142920_33 # 29383 # 30546 # 1 # ID=13886_33;partial=00;start_type=ATG;rbs_motif=GGA/GAG/AGG;rbs_spacer=5-10bp;gc_cont=0.382</td><td>k99_142920_33</td><td>29383</td><td>30546</td><td>+</td><td>Strict </td><td>175</td><td>⋯</td><td>True</td><td>18480314</td><td>17856737</td><td>17818493</td><td>1</td><td>1</td><td>1</td><td>AVWWAAA26790</td><td>AVWWAAA26790</td><td>AVWWAAA26790</td></tr>\n",
       "\t<tr><th scope=row>4</th><td>AVWWAAA26790</td><td>37b3b4c7-61a5-4ef9-8d53-d5a50f5ac1de</td><td>e169ca7e-32ed-47a3-9659-744a285b388d</td><td>k99_31009_1 # 104 # 658 # 1 # ID=32699_1;partial=00;start_type=ATG;rbs_motif=GGA/GAG/AGG;rbs_spacer=5-10bp;gc_cont=0.578       </td><td>k99_31009_1  </td><td>  104</td><td>  658</td><td>+</td><td>Perfect</td><td>275</td><td>⋯</td><td>True</td><td>18480314</td><td>17856737</td><td>17818493</td><td>1</td><td>1</td><td>1</td><td>AVWWAAA26790</td><td>AVWWAAA26790</td><td>AVWWAAA26790</td></tr>\n",
       "\t<tr><th scope=row>5</th><td>AVWWAAA26790</td><td>37b3b4c7-61a5-4ef9-8d53-d5a50f5ac1de</td><td>e169ca7e-32ed-47a3-9659-744a285b388d</td><td>k99_40891_1 # 1 # 699 # -1 # ID=148466_1;partial=10;start_type=ATG;rbs_motif=GGA/GAG/AGG;rbs_spacer=5-10bp;gc_cont=0.602       </td><td>k99_40891_1  </td><td>    1</td><td>  699</td><td>-</td><td>Strict </td><td>175</td><td>⋯</td><td>True</td><td>18480314</td><td>17856737</td><td>17818493</td><td>1</td><td>1</td><td>1</td><td>AVWWAAA26790</td><td>AVWWAAA26790</td><td>AVWWAAA26790</td></tr>\n",
       "\t<tr><th scope=row>6</th><td>AVWWAAA26790</td><td>37b3b4c7-61a5-4ef9-8d53-d5a50f5ac1de</td><td>e169ca7e-32ed-47a3-9659-744a285b388d</td><td>k99_90178_1 # 105 # 602 # 1 # ID=65752_1;partial=00;start_type=ATG;rbs_motif=None;rbs_spacer=None;gc_cont=0.512                </td><td>k99_90178_1  </td><td>  105</td><td>  602</td><td>+</td><td>Perfect</td><td>300</td><td>⋯</td><td>True</td><td>18480314</td><td>17856737</td><td>17818493</td><td>1</td><td>1</td><td>1</td><td>AVWWAAA26790</td><td>AVWWAAA26790</td><td>AVWWAAA26790</td></tr>\n",
       "</tbody>\n",
       "</table>\n"
      ],
      "text/latex": [
       "A data.frame: 6 × 95\n",
       "\\begin{tabular}{r|lllllllllllllllllllll}\n",
       "  & Sample & ID & SEQUENCING\\_TUBE\\_ID & ORF\\_ID & UNIQUE\\_CONTIG\\_ORF & start & stop & ORIENTATION & CUTOFF & PASS\\_BITSCORE & ⋯ & BFX\\_ANALYSIS\\_SUCCEEDED & BFX\\_RAW\\_READS & BFX\\_TRIMMED\\_READS & BFX\\_POSTHOST\\_READS & BFX\\_ANALYSIS\\_BY\\_TUBE\\_RN & BFX\\_ANALYSIS\\_BY\\_BARCODE\\_PANEL\\_RN & SS\\_RANK & LabelName & original\\_Sample & BothLabelName\\\\\n",
       "  & <chr> & <chr> & <chr> & <chr> & <chr> & <int> & <int> & <chr> & <chr> & <dbl> & ⋯ & <chr> & <int> & <int> & <int> & <int> & <int> & <int> & <chr> & <chr> & <chr>\\\\\n",
       "\\hline\n",
       "\t1 & AVWWAAA26790 & 37b3b4c7-61a5-4ef9-8d53-d5a50f5ac1de & e169ca7e-32ed-47a3-9659-744a285b388d & k99\\_161846\\_1 \\# 3 \\# 365 \\# 1 \\# ID=74336\\_1;partial=10;start\\_type=Edge;rbs\\_motif=None;rbs\\_spacer=None;gc\\_cont=0.333                 & k99\\_161846\\_1  &     3 &   365 & + & Strict  &  50 & ⋯ & True & 18480314 & 17856737 & 17818493 & 1 & 1 & 1 & AVWWAAA26790 & AVWWAAA26790 & AVWWAAA26790\\\\\n",
       "\t2 & AVWWAAA26790 & 37b3b4c7-61a5-4ef9-8d53-d5a50f5ac1de & e169ca7e-32ed-47a3-9659-744a285b388d & k99\\_124809\\_2 \\# 607 \\# 1311 \\# -1 \\# ID=139547\\_2;partial=01;start\\_type=Edge;rbs\\_motif=None;rbs\\_spacer=None;gc\\_cont=0.532            & k99\\_124809\\_2  &   607 &  1311 & - & Strict  & 450 & ⋯ & True & 18480314 & 17856737 & 17818493 & 1 & 1 & 1 & AVWWAAA26790 & AVWWAAA26790 & AVWWAAA26790\\\\\n",
       "\t3 & AVWWAAA26790 & 37b3b4c7-61a5-4ef9-8d53-d5a50f5ac1de & e169ca7e-32ed-47a3-9659-744a285b388d & k99\\_142920\\_33 \\# 29383 \\# 30546 \\# 1 \\# ID=13886\\_33;partial=00;start\\_type=ATG;rbs\\_motif=GGA/GAG/AGG;rbs\\_spacer=5-10bp;gc\\_cont=0.382 & k99\\_142920\\_33 & 29383 & 30546 & + & Strict  & 175 & ⋯ & True & 18480314 & 17856737 & 17818493 & 1 & 1 & 1 & AVWWAAA26790 & AVWWAAA26790 & AVWWAAA26790\\\\\n",
       "\t4 & AVWWAAA26790 & 37b3b4c7-61a5-4ef9-8d53-d5a50f5ac1de & e169ca7e-32ed-47a3-9659-744a285b388d & k99\\_31009\\_1 \\# 104 \\# 658 \\# 1 \\# ID=32699\\_1;partial=00;start\\_type=ATG;rbs\\_motif=GGA/GAG/AGG;rbs\\_spacer=5-10bp;gc\\_cont=0.578        & k99\\_31009\\_1   &   104 &   658 & + & Perfect & 275 & ⋯ & True & 18480314 & 17856737 & 17818493 & 1 & 1 & 1 & AVWWAAA26790 & AVWWAAA26790 & AVWWAAA26790\\\\\n",
       "\t5 & AVWWAAA26790 & 37b3b4c7-61a5-4ef9-8d53-d5a50f5ac1de & e169ca7e-32ed-47a3-9659-744a285b388d & k99\\_40891\\_1 \\# 1 \\# 699 \\# -1 \\# ID=148466\\_1;partial=10;start\\_type=ATG;rbs\\_motif=GGA/GAG/AGG;rbs\\_spacer=5-10bp;gc\\_cont=0.602        & k99\\_40891\\_1   &     1 &   699 & - & Strict  & 175 & ⋯ & True & 18480314 & 17856737 & 17818493 & 1 & 1 & 1 & AVWWAAA26790 & AVWWAAA26790 & AVWWAAA26790\\\\\n",
       "\t6 & AVWWAAA26790 & 37b3b4c7-61a5-4ef9-8d53-d5a50f5ac1de & e169ca7e-32ed-47a3-9659-744a285b388d & k99\\_90178\\_1 \\# 105 \\# 602 \\# 1 \\# ID=65752\\_1;partial=00;start\\_type=ATG;rbs\\_motif=None;rbs\\_spacer=None;gc\\_cont=0.512                 & k99\\_90178\\_1   &   105 &   602 & + & Perfect & 300 & ⋯ & True & 18480314 & 17856737 & 17818493 & 1 & 1 & 1 & AVWWAAA26790 & AVWWAAA26790 & AVWWAAA26790\\\\\n",
       "\\end{tabular}\n"
      ],
      "text/markdown": [
       "\n",
       "A data.frame: 6 × 95\n",
       "\n",
       "| <!--/--> | Sample &lt;chr&gt; | ID &lt;chr&gt; | SEQUENCING_TUBE_ID &lt;chr&gt; | ORF_ID &lt;chr&gt; | UNIQUE_CONTIG_ORF &lt;chr&gt; | start &lt;int&gt; | stop &lt;int&gt; | ORIENTATION &lt;chr&gt; | CUTOFF &lt;chr&gt; | PASS_BITSCORE &lt;dbl&gt; | ⋯ ⋯ | BFX_ANALYSIS_SUCCEEDED &lt;chr&gt; | BFX_RAW_READS &lt;int&gt; | BFX_TRIMMED_READS &lt;int&gt; | BFX_POSTHOST_READS &lt;int&gt; | BFX_ANALYSIS_BY_TUBE_RN &lt;int&gt; | BFX_ANALYSIS_BY_BARCODE_PANEL_RN &lt;int&gt; | SS_RANK &lt;int&gt; | LabelName &lt;chr&gt; | original_Sample &lt;chr&gt; | BothLabelName &lt;chr&gt; |\n",
       "|---|---|---|---|---|---|---|---|---|---|---|---|---|---|---|---|---|---|---|---|---|---|\n",
       "| 1 | AVWWAAA26790 | 37b3b4c7-61a5-4ef9-8d53-d5a50f5ac1de | e169ca7e-32ed-47a3-9659-744a285b388d | k99_161846_1 # 3 # 365 # 1 # ID=74336_1;partial=10;start_type=Edge;rbs_motif=None;rbs_spacer=None;gc_cont=0.333                 | k99_161846_1  |     3 |   365 | + | Strict  |  50 | ⋯ | True | 18480314 | 17856737 | 17818493 | 1 | 1 | 1 | AVWWAAA26790 | AVWWAAA26790 | AVWWAAA26790 |\n",
       "| 2 | AVWWAAA26790 | 37b3b4c7-61a5-4ef9-8d53-d5a50f5ac1de | e169ca7e-32ed-47a3-9659-744a285b388d | k99_124809_2 # 607 # 1311 # -1 # ID=139547_2;partial=01;start_type=Edge;rbs_motif=None;rbs_spacer=None;gc_cont=0.532            | k99_124809_2  |   607 |  1311 | - | Strict  | 450 | ⋯ | True | 18480314 | 17856737 | 17818493 | 1 | 1 | 1 | AVWWAAA26790 | AVWWAAA26790 | AVWWAAA26790 |\n",
       "| 3 | AVWWAAA26790 | 37b3b4c7-61a5-4ef9-8d53-d5a50f5ac1de | e169ca7e-32ed-47a3-9659-744a285b388d | k99_142920_33 # 29383 # 30546 # 1 # ID=13886_33;partial=00;start_type=ATG;rbs_motif=GGA/GAG/AGG;rbs_spacer=5-10bp;gc_cont=0.382 | k99_142920_33 | 29383 | 30546 | + | Strict  | 175 | ⋯ | True | 18480314 | 17856737 | 17818493 | 1 | 1 | 1 | AVWWAAA26790 | AVWWAAA26790 | AVWWAAA26790 |\n",
       "| 4 | AVWWAAA26790 | 37b3b4c7-61a5-4ef9-8d53-d5a50f5ac1de | e169ca7e-32ed-47a3-9659-744a285b388d | k99_31009_1 # 104 # 658 # 1 # ID=32699_1;partial=00;start_type=ATG;rbs_motif=GGA/GAG/AGG;rbs_spacer=5-10bp;gc_cont=0.578        | k99_31009_1   |   104 |   658 | + | Perfect | 275 | ⋯ | True | 18480314 | 17856737 | 17818493 | 1 | 1 | 1 | AVWWAAA26790 | AVWWAAA26790 | AVWWAAA26790 |\n",
       "| 5 | AVWWAAA26790 | 37b3b4c7-61a5-4ef9-8d53-d5a50f5ac1de | e169ca7e-32ed-47a3-9659-744a285b388d | k99_40891_1 # 1 # 699 # -1 # ID=148466_1;partial=10;start_type=ATG;rbs_motif=GGA/GAG/AGG;rbs_spacer=5-10bp;gc_cont=0.602        | k99_40891_1   |     1 |   699 | - | Strict  | 175 | ⋯ | True | 18480314 | 17856737 | 17818493 | 1 | 1 | 1 | AVWWAAA26790 | AVWWAAA26790 | AVWWAAA26790 |\n",
       "| 6 | AVWWAAA26790 | 37b3b4c7-61a5-4ef9-8d53-d5a50f5ac1de | e169ca7e-32ed-47a3-9659-744a285b388d | k99_90178_1 # 105 # 602 # 1 # ID=65752_1;partial=00;start_type=ATG;rbs_motif=None;rbs_spacer=None;gc_cont=0.512                 | k99_90178_1   |   105 |   602 | + | Perfect | 300 | ⋯ | True | 18480314 | 17856737 | 17818493 | 1 | 1 | 1 | AVWWAAA26790 | AVWWAAA26790 | AVWWAAA26790 |\n",
       "\n"
      ],
      "text/plain": [
       "  Sample       ID                                  \n",
       "1 AVWWAAA26790 37b3b4c7-61a5-4ef9-8d53-d5a50f5ac1de\n",
       "2 AVWWAAA26790 37b3b4c7-61a5-4ef9-8d53-d5a50f5ac1de\n",
       "3 AVWWAAA26790 37b3b4c7-61a5-4ef9-8d53-d5a50f5ac1de\n",
       "4 AVWWAAA26790 37b3b4c7-61a5-4ef9-8d53-d5a50f5ac1de\n",
       "5 AVWWAAA26790 37b3b4c7-61a5-4ef9-8d53-d5a50f5ac1de\n",
       "6 AVWWAAA26790 37b3b4c7-61a5-4ef9-8d53-d5a50f5ac1de\n",
       "  SEQUENCING_TUBE_ID                  \n",
       "1 e169ca7e-32ed-47a3-9659-744a285b388d\n",
       "2 e169ca7e-32ed-47a3-9659-744a285b388d\n",
       "3 e169ca7e-32ed-47a3-9659-744a285b388d\n",
       "4 e169ca7e-32ed-47a3-9659-744a285b388d\n",
       "5 e169ca7e-32ed-47a3-9659-744a285b388d\n",
       "6 e169ca7e-32ed-47a3-9659-744a285b388d\n",
       "  ORF_ID                                                                                                                         \n",
       "1 k99_161846_1 # 3 # 365 # 1 # ID=74336_1;partial=10;start_type=Edge;rbs_motif=None;rbs_spacer=None;gc_cont=0.333                \n",
       "2 k99_124809_2 # 607 # 1311 # -1 # ID=139547_2;partial=01;start_type=Edge;rbs_motif=None;rbs_spacer=None;gc_cont=0.532           \n",
       "3 k99_142920_33 # 29383 # 30546 # 1 # ID=13886_33;partial=00;start_type=ATG;rbs_motif=GGA/GAG/AGG;rbs_spacer=5-10bp;gc_cont=0.382\n",
       "4 k99_31009_1 # 104 # 658 # 1 # ID=32699_1;partial=00;start_type=ATG;rbs_motif=GGA/GAG/AGG;rbs_spacer=5-10bp;gc_cont=0.578       \n",
       "5 k99_40891_1 # 1 # 699 # -1 # ID=148466_1;partial=10;start_type=ATG;rbs_motif=GGA/GAG/AGG;rbs_spacer=5-10bp;gc_cont=0.602       \n",
       "6 k99_90178_1 # 105 # 602 # 1 # ID=65752_1;partial=00;start_type=ATG;rbs_motif=None;rbs_spacer=None;gc_cont=0.512                \n",
       "  UNIQUE_CONTIG_ORF start stop  ORIENTATION CUTOFF  PASS_BITSCORE ⋯\n",
       "1 k99_161846_1          3   365 +           Strict   50           ⋯\n",
       "2 k99_124809_2        607  1311 -           Strict  450           ⋯\n",
       "3 k99_142920_33     29383 30546 +           Strict  175           ⋯\n",
       "4 k99_31009_1         104   658 +           Perfect 275           ⋯\n",
       "5 k99_40891_1           1   699 -           Strict  175           ⋯\n",
       "6 k99_90178_1         105   602 +           Perfect 300           ⋯\n",
       "  BFX_ANALYSIS_SUCCEEDED BFX_RAW_READS BFX_TRIMMED_READS BFX_POSTHOST_READS\n",
       "1 True                   18480314      17856737          17818493          \n",
       "2 True                   18480314      17856737          17818493          \n",
       "3 True                   18480314      17856737          17818493          \n",
       "4 True                   18480314      17856737          17818493          \n",
       "5 True                   18480314      17856737          17818493          \n",
       "6 True                   18480314      17856737          17818493          \n",
       "  BFX_ANALYSIS_BY_TUBE_RN BFX_ANALYSIS_BY_BARCODE_PANEL_RN SS_RANK LabelName   \n",
       "1 1                       1                                1       AVWWAAA26790\n",
       "2 1                       1                                1       AVWWAAA26790\n",
       "3 1                       1                                1       AVWWAAA26790\n",
       "4 1                       1                                1       AVWWAAA26790\n",
       "5 1                       1                                1       AVWWAAA26790\n",
       "6 1                       1                                1       AVWWAAA26790\n",
       "  original_Sample BothLabelName\n",
       "1 AVWWAAA26790    AVWWAAA26790 \n",
       "2 AVWWAAA26790    AVWWAAA26790 \n",
       "3 AVWWAAA26790    AVWWAAA26790 \n",
       "4 AVWWAAA26790    AVWWAAA26790 \n",
       "5 AVWWAAA26790    AVWWAAA26790 \n",
       "6 AVWWAAA26790    AVWWAAA26790 "
      ]
     },
     "metadata": {},
     "output_type": "display_data"
    }
   ],
   "source": [
    "head(working_data)"
   ]
  },
  {
   "cell_type": "code",
   "execution_count": null,
   "metadata": {
    "id": "GKJGQuXKzSny",
    "vscode": {
     "languageId": "r"
    }
   },
   "outputs": [],
   "source": [
    "###### RESTRUCTURE THE DATA ######\n",
    "\n",
    "#Collection date\n",
    "working_data$COLLECTION_DATE <- convert_to_date(working_data$COLLECTION_DATE)\n",
    "record_log(filepath=opt[[\"log-file\"]], summary(working_data$COLLECTION_DATE), opt[[\"logaction\"]])\n",
    "\n",
    "#Collection week\n",
    "working_data$COLLECTION_WEEK <- floor_date(working_data$COLLECTION_DATE, unit = \"week\", week_start = 7)\n",
    "record_log(filepath=opt[[\"log-file\"]], summary(working_data$COLLECTION_WEEK), opt[[\"logaction\"]])\n",
    "\n",
    "#site\n",
    "working_data$TEST_LOCATION_NAME <- as.factor(working_data$TEST_LOCATION_NAME)\n",
    "record_log(filepath=opt[[\"log-file\"]], levels(working_data$TEST_LOCATION_NAME), opt[[\"logaction\"]])\n",
    "\n",
    "#RPKM: replace NA with 0 (these are the sequencing controls)\n",
    "working_data$RPKM[which(is.na(working_data$RPKM)==TRUE)] <- 0\n",
    "working_data$RPKM <- as.numeric(working_data$RPKM)\n",
    "record_log(filepath=opt[[\"log-file\"]], \"#### RPKM INFO:\", opt[[\"logaction\"]])\n",
    "record_log(filepath=opt[[\"log-file\"]], summary(working_data$RPKM), opt[[\"logaction\"]])\n",
    "\n",
    "#ID\n",
    "working_data$BARCODE <- as.factor(working_data$BARCODE)\n",
    "record_log(filepath=opt[[\"log-file\"]], \"#### BARCODE INFO:\", opt[[\"logaction\"]])\n",
    "record_log(filepath=opt[[\"log-file\"]], summary(working_data$BARCODE), opt[[\"logaction\"]])\n",
    "record_log(filepath=opt[[\"log-file\"]], length(levels(working_data$BARCODE)), opt[[\"logaction\"]])\n",
    "\n",
    "# LOCATION. just replace it, for ease\n",
    "working_data$TEST_LOCATION_NAME_ORIGINAL <- working_data$TEST_LOCATION_NAME\n",
    "working_data <- working_data %>%\n",
    "  mutate(TEST_LOCATION_NAME = case_when(\n",
    "    TEST_LOCATION_NAME == \"Anakin\" ~ \"Building 9 Basement\\nRoom 0220\",\n",
    "    TEST_LOCATION_NAME == \"Dexter\" ~ \"10 Basement\\nRoom 0200\",\n",
    "    TEST_LOCATION_NAME == \"Jafar\" ~ \"Building 9\\nExternal Manhole\",\n",
    "    TEST_LOCATION_NAME == \"Bane\" ~ \"Building 9\\nWest Basement 716\",\n",
    "    TEST_LOCATION_NAME == \"Ursula\" ~ \"Building 9A\\nSump Pump\",\n",
    "    TEST_LOCATION_NAME == \"Thanos\" ~ \"Building 62\\nExternal Manhole NE\",\n",
    "    TEST_LOCATION_NAME == \"Draco\" ~ \"Building 19\\nSump Room B034\",\n",
    "    TEST_LOCATION_NAME == \"Loki\" ~ \"Building 19\\nExternal Manhole\",\n",
    "    TRUE ~ TEST_LOCATION_NAME\n",
    "  ))\n",
    "\n",
    "# Set the summary date column based on the plot-collection-date-by-day option\n",
    "summary_date_column <- if(opt[[\"plot-collection-date-by-day\"]]){ \"COLLECTION_DATE\" } else { \"COLLECTION_WEEK\" }\n",
    "working_data$DATE_PLOT_COLUMN <- working_data[[summary_date_column]]\n",
    "\n",
    "#reduce columns for manageability\n",
    "cols_keep <- c(\"BARCODE\", \"TEST_LOCATION_NAME\", \"DATE_PLOT_COLUMN\", \"COLLECTION_DATE\", \"COLLECTION_WEEK\", \"DRUG_CLASS\", \"HIGH_LEVEL_DRUG_CLASS\", \"RPKM\")\n",
    "working_data_reduced <-working_data[,which(colnames(working_data)%in%cols_keep)]\n",
    "record_log(filepath=opt[[\"log-file\"]], head(working_data_reduced), opt[[\"logaction\"]])\n"
   ]
  },
  {
   "cell_type": "code",
   "execution_count": null,
   "metadata": {
    "id": "vWqllDZBvnc6",
    "vscode": {
     "languageId": "r"
    }
   },
   "outputs": [],
   "source": [
    "############ RENAME THE DRUG CLASSES ############\n",
    "#bin drug classes\n",
    "\n",
    "#remove any rows without drug class.\n",
    "working_data_reduced <- working_data_reduced[working_data_reduced$HIGH_LEVEL_DRUG_CLASS!=\"\",]\n",
    "\n",
    "# Function to check if a given entry is a subset of MLS_classes\n",
    "is_MLS_only <- function(entry) {\n",
    "  components <- unlist(strsplit(entry, \"; \"))\n",
    "  all(components %in% c(\"lincosamide\", \"macrolide\", \"streptogramin\"))\n",
    "}\n",
    "\n",
    "# Standardize drug class names\n",
    "working_data_reduced$HIGH_LEVEL_DRUG_CLASS <- gsub(\" antibiotic\", \"\", working_data_reduced$HIGH_LEVEL_DRUG_CLASS)\n",
    "working_data_reduced$HIGH_LEVEL_DRUG_CLASS <- gsub(\"diaminopyrimidine\", \"trimethoprim\", working_data_reduced$HIGH_LEVEL_DRUG_CLASS)\n",
    "working_data_reduced$HIGH_LEVEL_DRUG_CLASS <- gsub(\"phosphonic acid\", \"fosfomycin\", working_data_reduced$HIGH_LEVEL_DRUG_CLASS)\n",
    "\n",
    "# Apply MLS filtering\n",
    "working_data_reduced$HIGH_LEVEL_DRUG_CLASS[sapply(working_data_reduced$HIGH_LEVEL_DRUG_CLASS, is_MLS_only)] <- \"MLS\"\n",
    "\n",
    "# Group multidrug classifications\n",
    "working_data_reduced$HIGH_LEVEL_DRUG_CLASS[grep(\";\", working_data_reduced$HIGH_LEVEL_DRUG_CLASS)] <- \"multidrug\"\n",
    "\n",
    "# Remove non-clinical drug classes\n",
    "remove_classes <- c(\"aminocoumarin\", \"disinfecting agents and antiseptics\", \"elfamycin\", \"nucleoside\")\n",
    "working_data_reduced <- working_data_reduced[!working_data_reduced$HIGH_LEVEL_DRUG_CLASS %in% remove_classes, ]\n",
    "\n",
    "# Remove specific drug classes from analysis\n",
    "remove_drugs <- c(\"fosfomycin\", \"peptide\", \"nitroimidazole\", \"rifamycin\")\n",
    "working_data_reduced <- working_data_reduced[!working_data_reduced$HIGH_LEVEL_DRUG_CLASS %in% remove_drugs, ]\n",
    "working_data_reduced <- droplevels(working_data_reduced)\n",
    "working_data_reduced$HIGH_LEVEL_DRUG_CLASS <- as.factor(working_data_reduced$HIGH_LEVEL_DRUG_CLASS)\n",
    "record_log(filepath=opt[[\"log-file\"]], levels(working_data_reduced$HIGH_LEVEL_DRUG_CLASS), opt[[\"logaction\"]])\n",
    "\n",
    "###### SUMMARIZE DATA ######\n",
    "#summarize data by week\n",
    "summary_data <- working_data_reduced %>%\n",
    "  group_by(DATE_PLOT_COLUMN, HIGH_LEVEL_DRUG_CLASS, TEST_LOCATION_NAME) %>%\n",
    "  summarize(RPKM = sum(RPKM))\n",
    "\n",
    "#add placeholder data for Loki\n",
    "placeholder <- summary_data %>% filter(TEST_LOCATION_NAME == \"Bane\") %>% mutate(TEST_LOCATION_NAME = \"Loki\", RPKM = NA)\n",
    "summary_data <- bind_rows(summary_data, placeholder)"
   ]
  },
  {
   "cell_type": "markdown",
   "metadata": {
    "id": "SDrlIWkqqdJF"
   },
   "source": [
    "## AMR Heatmap"
   ]
  },
  {
   "cell_type": "code",
   "execution_count": null,
   "metadata": {
    "colab": {
     "base_uri": "https://localhost:8080/",
     "height": 317
    },
    "executionInfo": {
     "elapsed": 969,
     "status": "ok",
     "timestamp": 1741049880880,
     "user": {
      "displayName": "Alex Simas",
      "userId": "09705253603559536357"
     },
     "user_tz": 300
    },
    "id": "M-uHWNzGoP-j",
    "outputId": "1a9adeb4-5bfc-4347-b7ef-d80d0c68f4a2",
    "vscode": {
     "languageId": "r"
    }
   },
   "outputs": [
    {
     "data": {
      "image/png": "[encoded data removed]",
      "text/plain": [
       "plot without title"
      ]
     },
     "metadata": {
      "image/png": {
       "height": 300,
       "width": 1080
      }
     },
     "output_type": "display_data"
    }
   ],
   "source": [
    "###### PLOT DATA ######\n",
    "#Plot heatmap using ggplot\n",
    "options(repr.plot.width = opt[[\"plot-width\"]], repr.plot.height = opt[[\"plot-height\"]])\n",
    "AMR_heat <- ggplot(summary_data, aes(DATE_PLOT_COLUMN, ordered(HIGH_LEVEL_DRUG_CLASS, levels=rev(levels(HIGH_LEVEL_DRUG_CLASS))), fill= RPKM)) +\n",
    "  geom_tile()+\n",
    "  scale_fill_distiller(palette = \"RdPu\", direction=1,\n",
    "                       na.value=\"white\",\n",
    "                       name=\"Normalized\\nAbundance\\n\") +\n",
    "  scale_x_date(date_labels = \"%b %d\")+\n",
    "  facet_wrap(~TEST_LOCATION_NAME, nrow=opt[[\"facet-nrow\"]]) +\n",
    "  theme_cowplot()+\n",
    "  theme(axis.text.x = element_text(angle=45, hjust=1, size=opt[[\"plot-text-size-small\"]]),\n",
    "        axis.text.y = element_text(size=opt[[\"plot-text-size-small\"]]),\n",
    "        axis.title.y = element_blank(),\n",
    "        axis.title.x = element_text(size=opt[[\"plot-text-size-medium\"]]),\n",
    "        strip.text = element_text(size=opt[[\"plot-text-size-small\"]]),\n",
    "        strip.background = element_blank(),\n",
    "        legend.text = element_text(size=opt[[\"plot-text-size-small\"]]),\n",
    "        legend.title = element_text(size=opt[[\"plot-text-size-medium\"]])) +\n",
    "        xlab(sub(\"_\", \" \",summary_date_column))\n",
    "  ggsave(file.path(plots_dir, \"AMR_heatmap.png\"), plot = AMR_heat, width = opt[[\"plot-width\"]], height = opt[[\"plot-height\"]], units = \"in\", dpi = 300)\n",
    "\n",
    "  AMR_heat\n",
    "\n"
   ]
  },
  {
   "cell_type": "code",
   "execution_count": null,
   "metadata": {
    "id": "tHmDjQckkaef",
    "vscode": {
     "languageId": "r"
    }
   },
   "outputs": [],
   "source": [
    "###### GET FAMILY TOTALS ######\n",
    "#get summary data for key gene families\n",
    "\n",
    "# Summarize AMR gene families\n",
    "family_data <- working_data %>%\n",
    "  group_by(AMR_GENE_FAMILY, BARCODE, DATE_PLOT_COLUMN, TEST_LOCATION_NAME) %>%\n",
    "  summarize(RPKM = sum(RPKM), .groups = 'drop')\n",
    "\n",
    "percent_pos <- family_data %>%\n",
    "  group_by(AMR_GENE_FAMILY) %>%\n",
    "  summarize(pos = sum(RPKM > 0), percent_pos = (pos / length(unique(family_data$BARCODE))) * 100, .groups = 'drop')\n",
    "\n",
    "write.csv(percent_pos, file = file.path(data_dir, \"percent_positive_AMR.csv\"), row.names = FALSE)\n",
    "\n",
    "#summarize by gene family\n",
    "gene_data <- working_data %>%\n",
    "  group_by(GENE_NAME, BARCODE, DATE_PLOT_COLUMN, TEST_LOCATION_NAME) %>%\n",
    "  summarize(RPKM = sum(RPKM), .groups = 'drop')\n",
    "\n",
    "percent_pos_gene <- gene_data %>%\n",
    "  group_by(GENE_NAME) %>%\n",
    "  summarize(pos = sum(RPKM > 0), percent_pos = (pos / length(unique(gene_data$BARCODE))) * 100, .groups = 'drop')\n",
    "\n",
    "write.csv(percent_pos_gene, file = file.path(data_dir, \"percent_positive_AMR_variants.csv\"), row.names = FALSE)"
   ]
  },
  {
   "cell_type": "code",
   "execution_count": null,
   "metadata": {
    "colab": {
     "base_uri": "https://localhost:8080/"
    },
    "executionInfo": {
     "elapsed": 404,
     "status": "ok",
     "timestamp": 1741050312334,
     "user": {
      "displayName": "Alex Simas",
      "userId": "09705253603559536357"
     },
     "user_tz": 300
    },
    "id": "DCis0VIAqvzn",
    "outputId": "d84cdc06-4479-4318-a26d-b895fbe508f5",
    "vscode": {
     "languageId": "r"
    }
   },
   "outputs": [
    {
     "name": "stderr",
     "output_type": "stream",
     "text": [
      "\u001b[1m\u001b[22m`summarise()` has grouped output by 'BARCODE', 'TEST_LOCATION_NAME',\n",
      "'DATE_PLOT_COLUMN'. You can override using the `.groups` argument.\n",
      "Warning message:\n",
      "“\u001b[1m\u001b[22mUsing an external vector in selections was deprecated in tidyselect 1.1.0.\n",
      "\u001b[36mℹ\u001b[39m Please use `all_of()` or `any_of()` instead.\n",
      "  # Was:\n",
      "  data %>% select(key_genes)\n",
      "\n",
      "  # Now:\n",
      "  data %>% select(all_of(key_genes))\n",
      "\n",
      "See <https://tidyselect.r-lib.org/reference/faq-external-vector.html>.”\n"
     ]
    }
   ],
   "source": [
    "###### REVAMP DATA FOR SPECIFIC GENES (Copied from AMR_gene_detection) ######\n",
    "AMR_data <- working_data\n",
    "#For genes we want to plot, this replaces the AMR_GENE_FAMILY column entry with the\n",
    "#name we want plotted.\n",
    "#For select genes from GENE_NAME, replace entry in AMR_GENE_FAMILY for ease of plotting.\n",
    "gene_replacements <- list(\n",
    "  \"vanA\" = \"vanA\",\n",
    "  \"vanB\" = \"vanB\",\n",
    "  \"OXA-48\" = \"OXA-48\",\n",
    "  \"mecA\" = \"mecA\"\n",
    ")\n",
    "\n",
    "family_replacements <- c(\"KPC\", \"NDM\", \"VIM\", \"IMP\", \"MCR\")\n",
    "\n",
    "for (gene in names(gene_replacements)) {\n",
    "  AMR_data$AMR_GENE_FAMILY[AMR_data$GENE_NAME == gene] <- gene_replacements[[gene]]\n",
    "}\n",
    "\n",
    "for (family in family_replacements) {\n",
    "  AMR_data$AMR_GENE_FAMILY[grep(family, AMR_data$AMR_GENE_FAMILY)] <- family\n",
    "}\n",
    "\n",
    "#make a new data set for select AMR genes. Subset this data, and add empty rows for undetected genes.\n",
    "\n",
    "#summarize by AMR_GENE_FAMILY to remove duplicates of genes within samples.\n",
    "sum_data <- AMR_data %>%\n",
    "  group_by(BARCODE, TEST_LOCATION_NAME, DATE_PLOT_COLUMN, AMR_GENE_FAMILY)%>%\n",
    "  summarize(RPKM = sum(RPKM))\n",
    "\n",
    "#pivot data frame wide\n",
    "wide_data <- pivot_wider(sum_data, id_cols=c(BARCODE, TEST_LOCATION_NAME, DATE_PLOT_COLUMN), names_from = AMR_GENE_FAMILY, values_from = RPKM, values_fill = 0)\n",
    "\n",
    "#list target genes\n",
    "key_genes <- c(\"KPC\", \"VIM\", \"IMP\", \"NDM\", \"OXA-48\", \"vanA\", \"vanB\", \"MCR\", \"mecA\")\n",
    "\n",
    "#reduce data frame to target genes\n",
    "ARG_cols <- c(\"BARCODE\", \"TEST_LOCATION_NAME\", \"DATE_PLOT_COLUMN\", key_genes)\n",
    "ARG_data <- wide_data[,which(colnames(wide_data)%in%ARG_cols)]\n",
    "\n",
    "#add column for any missing key genes in data set\n",
    "for (gene in key_genes) {\n",
    "  if (!gene %in% colnames(ARG_data)) {\n",
    "    ARG_data[[gene]] <- 0\n",
    "  }\n",
    "}\n",
    "\n",
    "#format date and site\n",
    "ARG_data$DATE_PLOT_COLUMN <- as.Date(ARG_data$DATE_PLOT_COLUMN, format=\"%m/%d/%y\")\n",
    "ARG_data$TEST_LOCATION_NAME <- as.factor(ARG_data$TEST_LOCATION_NAME)\n",
    "\n",
    "#pivot long\n",
    "ARG_long <- pivot_longer(ARG_data, cols = key_genes, names_to = \"Gene\", values_to = \"RPKM\")\n",
    "ARG_long$Gene <- as.factor(ARG_long$Gene)\n",
    "\n",
    "#reorder factor levels for ARG pathogens\n",
    "ARG_long$Gene <- factor(ARG_long$Gene,\n",
    "                        levels = rev(key_genes))\n",
    "\n",
    "# Summarize by week and location\n",
    "summary_data <- ARG_long %>%\n",
    "  group_by(DATE_PLOT_COLUMN, TEST_LOCATION_NAME, Gene) %>%\n",
    "  summarize(RPKM = sum(RPKM), .groups = \"drop\")\n",
    "\n",
    "# Add detected/not detected column\n",
    "summary_data <- summary_data %>%\n",
    "  mutate(\n",
    "    detected = factor(RPKM > 0, levels = c(FALSE, TRUE), labels = c(\"FALSE\", \"TRUE\"))\n",
    "  )\n",
    "\n",
    "#add column for gene type\n",
    "summary_data$type <- case_when(\n",
    "  grepl(\"van\", summary_data$Gene) ~ \"VRE\",\n",
    "  grepl(\"mecA\", summary_data$Gene) ~ \"MRSA\",\n",
    "  grepl(\"MCR\", summary_data$Gene) ~ \"colistin\",\n",
    "  TRUE ~ \"CRE\"\n",
    ")\n",
    "\n",
    "#add column for color\n",
    "summary_data$color <- as.factor(ifelse(summary_data$detected == \"TRUE\", summary_data$type, \"notdetected\"))"
   ]
  },
  {
   "cell_type": "code",
   "execution_count": null,
   "metadata": {
    "colab": {
     "base_uri": "https://localhost:8080/",
     "height": 317
    },
    "executionInfo": {
     "elapsed": 3165,
     "status": "ok",
     "timestamp": 1741050320793,
     "user": {
      "displayName": "Alex Simas",
      "userId": "09705253603559536357"
     },
     "user_tz": 300
    },
    "id": "pfWGiuG1qyVb",
    "outputId": "41791dff-36ad-45ec-c1bd-990ddcd42ad5",
    "vscode": {
     "languageId": "r"
    }
   },
   "outputs": [
    {
     "data": {
      "image/png": "[encoded data removed]",
      "text/plain": [
       "plot without title"
      ]
     },
     "metadata": {
      "image/png": {
       "height": 300,
       "width": 1080
      }
     },
     "output_type": "display_data"
    }
   ],
   "source": [
    "###### PLOT SPECIFIC GENES ######\n",
    "\n",
    "options(repr.plot.width = opt[[\"plot-width\"]], repr.plot.height = opt[[\"plot-height\"]])\n",
    "gene_plot <- ggplot(data=summary_data, aes(x=DATE_PLOT_COLUMN, y=Gene, fill=color))+\n",
    "  geom_tile(color=\"black\", linewidth=1) +\n",
    "  facet_wrap(~TEST_LOCATION_NAME, nrow=opt[[\"facet-nrow\"]]) +\n",
    "  scale_fill_manual(values=c(\"#FF828B\", \"#B5A6F0\",  \"white\", \"lightblue\"))+\n",
    "  scale_x_date(name=\"Date\")+\n",
    "  theme_cowplot()+\n",
    "  theme(axis.title = element_text(size=opt[[\"plot-text-size-medium\"]]),\n",
    "        axis.text.y = element_text(size=opt[[\"plot-text-size-small\"]]),\n",
    "        axis.text.x = element_text(size=opt[[\"plot-text-size-small\"]], angle=45, hjust=1),\n",
    "        strip.text = element_text(size=opt[[\"plot-text-size-small\"]]),\n",
    "        plot.title = element_text(size=opt[[\"plot-text-size-medium\"]], hjust=0.5),\n",
    "        legend.text = element_text(size=opt[[\"plot-text-size-small\"]]),\n",
    "        legend.title = element_blank(),\n",
    "        strip.background = element_blank())\n",
    "\n",
    "gene_plot\n",
    "ggsave(file.path(plots_dir, \"AMR_genes.png\"), plot = gene_plot, width = opt[[\"plot-width\"]], height = opt[[\"plot-height\"]], units = \"in\", dpi = 300)\n"
   ]
  },
  {
   "cell_type": "code",
   "execution_count": null,
   "metadata": {
    "colab": {
     "base_uri": "https://localhost:8080/"
    },
    "executionInfo": {
     "elapsed": 115,
     "status": "ok",
     "timestamp": 1741052502863,
     "user": {
      "displayName": "Alex Simas",
      "userId": "09705253603559536357"
     },
     "user_tz": 300
    },
    "id": "7k_YtLt7q0Pa",
    "outputId": "1007a472-eaf7-40c7-d231-1fad690894ce",
    "vscode": {
     "languageId": "r"
    }
   },
   "outputs": [
    {
     "name": "stdout",
     "output_type": "stream",
     "text": [
      "   Length     Class      Mode \n",
      "        7 character character \n",
      "[1] 7\n",
      "   Length     Class      Mode \n",
      "       33 character character \n",
      "[1] 33\n",
      "   Length     Class      Mode \n",
      "       10 character character \n",
      "[1] 33\n",
      "[1] \"writing to output/amr_heatmap.Rdata\"\n"
     ]
    }
   ],
   "source": [
    "#can you say anything about key genes by site?\n",
    "record_log(filepath=opt[[\"log-file\"]], summary(working_data$TEST_LOCATION_NAME[which(working_data$GENE_NAME==\"vanA\")]), opt[[\"logaction\"]])\n",
    "record_log(filepath=opt[[\"log-file\"]], length(working_data$TEST_LOCATION_NAME[which(working_data$GENE_NAME==\"vanA\")]), opt[[\"logaction\"]])\n",
    "\n",
    "record_log(filepath=opt[[\"log-file\"]], summary(working_data$TEST_LOCATION_NAME[grep(\"msr\", working_data$GENE_NAME)]), opt[[\"logaction\"]])\n",
    "record_log(filepath=opt[[\"log-file\"]], length(working_data$TEST_LOCATION_NAME[grep(\"msr\", working_data$GENE_NAME)]), opt[[\"logaction\"]])\n",
    "\n",
    "record_log(filepath=opt[[\"log-file\"]], summary(working_data$TEST_LOCATION_NAME[grep(\"NDM\", working_data$GENE_NAME)]), opt[[\"logaction\"]])\n",
    "record_log(filepath=opt[[\"log-file\"]], length(working_data$TEST_LOCATION_NAME[grep(\"msr\", working_data$GENE_NAME)]), opt[[\"logaction\"]])\n",
    "\n",
    "record_log(filepath=opt[[\"log-file\"]], paste0(\"writing to \",file.path(opt[[\"output-dir\"]],\"amr_heatmap.Rdata\")), opt[[\"logaction\"]])\n"
   ]
  }
 ],
 "metadata": {
  "colab": {
   "provenance": []
  },
  "kernelspec": {
   "display_name": "R",
   "name": "ir"
  },
  "language_info": {
   "name": "R"
  }
 },
 "nbformat": 4,
 "nbformat_minor": 0
}
